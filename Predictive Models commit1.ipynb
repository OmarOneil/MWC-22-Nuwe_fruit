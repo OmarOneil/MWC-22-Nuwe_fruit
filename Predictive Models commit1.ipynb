{
 "cells": [
  {
   "cell_type": "markdown",
   "id": "c1b37e9d",
   "metadata": {},
   "source": [
    "# Configure and set-up of the environement"
   ]
  },
  {
   "cell_type": "code",
   "execution_count": 1,
   "id": "904d2dbb",
   "metadata": {
    "ExecuteTime": {
     "end_time": "2022-02-13T22:33:49.789368Z",
     "start_time": "2022-02-13T22:33:47.476646Z"
    }
   },
   "outputs": [],
   "source": [
    "import matplotlib.pyplot as plt\n",
    "import pandas as pd\n",
    "from sklearn import model_selection\n",
    "from sklearn.linear_model import LogisticRegression\n",
    "from sklearn.tree import DecisionTreeClassifier\n",
    "from sklearn.neighbors import KNeighborsClassifier\n",
    "from sklearn.discriminant_analysis import LinearDiscriminantAnalysis\n",
    "from sklearn.naive_bayes import GaussianNB\n",
    "from sklearn.svm import SVC\n",
    "from sklearn.model_selection import train_test_split\n",
    "from sklearn import datasets\n",
    "import matplotlib.pyplot as plt\n",
    "plt.style.use('ggplot')\n",
    "import numpy as np\n",
    "import pandas as pd \n",
    "import random\n",
    "from kmodes.kprototypes import KPrototypes\n",
    "import matplotlib.pyplot as plt\n",
    "from matplotlib import style\n",
    "import seaborn as sns\n",
    "\n",
    "import warnings"
   ]
  },
  {
   "cell_type": "markdown",
   "id": "738d61b2",
   "metadata": {},
   "source": [
    "# Read and define input and outputs"
   ]
  },
  {
   "cell_type": "code",
   "execution_count": 2,
   "id": "31969faa",
   "metadata": {
    "ExecuteTime": {
     "end_time": "2022-02-13T22:33:51.385995Z",
     "start_time": "2022-02-13T22:33:51.359916Z"
    }
   },
   "outputs": [],
   "source": [
    "# Read the dataset and save it\n",
    "\n",
    "df = pd.read_csv(\"clients_df.csv\",header=[0])\n",
    "\n",
    "\n",
    "\n",
    "#split our data for training and testing\n",
    "\n"
   ]
  },
  {
   "cell_type": "code",
   "execution_count": 3,
   "id": "07c7958c",
   "metadata": {
    "ExecuteTime": {
     "end_time": "2022-02-13T22:33:53.333854Z",
     "start_time": "2022-02-13T22:33:53.324920Z"
    }
   },
   "outputs": [],
   "source": [
    "# let's define our input and output arrays \n",
    "\n",
    "features = ['segment','avg_conso','avg_basket_size','received_com']\n",
    "\n",
    "X= np.array(df[features])\n",
    "y= np.array(df['segment'])"
   ]
  },
  {
   "cell_type": "code",
   "execution_count": 4,
   "id": "1338d7d9",
   "metadata": {
    "ExecuteTime": {
     "end_time": "2022-02-13T22:33:54.871199Z",
     "start_time": "2022-02-13T22:33:54.845760Z"
    }
   },
   "outputs": [
    {
     "data": {
      "text/html": [
       "<div>\n",
       "<style scoped>\n",
       "    .dataframe tbody tr th:only-of-type {\n",
       "        vertical-align: middle;\n",
       "    }\n",
       "\n",
       "    .dataframe tbody tr th {\n",
       "        vertical-align: top;\n",
       "    }\n",
       "\n",
       "    .dataframe thead th {\n",
       "        text-align: right;\n",
       "    }\n",
       "</style>\n",
       "<table border=\"1\" class=\"dataframe\">\n",
       "  <thead>\n",
       "    <tr style=\"text-align: right;\">\n",
       "      <th></th>\n",
       "      <th>client_id</th>\n",
       "      <th>segment</th>\n",
       "      <th>avg_conso</th>\n",
       "      <th>avg_basket_size</th>\n",
       "      <th>received_com</th>\n",
       "    </tr>\n",
       "  </thead>\n",
       "  <tbody>\n",
       "    <tr>\n",
       "      <th>0</th>\n",
       "      <td>24321771</td>\n",
       "      <td>6</td>\n",
       "      <td>67.25</td>\n",
       "      <td>201.75</td>\n",
       "      <td>0</td>\n",
       "    </tr>\n",
       "    <tr>\n",
       "      <th>1</th>\n",
       "      <td>24321859</td>\n",
       "      <td>2</td>\n",
       "      <td>58.33</td>\n",
       "      <td>350.00</td>\n",
       "      <td>0</td>\n",
       "    </tr>\n",
       "    <tr>\n",
       "      <th>2</th>\n",
       "      <td>24321880</td>\n",
       "      <td>3</td>\n",
       "      <td>46.67</td>\n",
       "      <td>112.00</td>\n",
       "      <td>0</td>\n",
       "    </tr>\n",
       "    <tr>\n",
       "      <th>3</th>\n",
       "      <td>24321962</td>\n",
       "      <td>4</td>\n",
       "      <td>10.00</td>\n",
       "      <td>120.00</td>\n",
       "      <td>0</td>\n",
       "    </tr>\n",
       "    <tr>\n",
       "      <th>4</th>\n",
       "      <td>24322000</td>\n",
       "      <td>5</td>\n",
       "      <td>9.17</td>\n",
       "      <td>110.00</td>\n",
       "      <td>0</td>\n",
       "    </tr>\n",
       "  </tbody>\n",
       "</table>\n",
       "</div>"
      ],
      "text/plain": [
       "   client_id  segment  avg_conso  avg_basket_size  received_com\n",
       "0   24321771        6      67.25           201.75             0\n",
       "1   24321859        2      58.33           350.00             0\n",
       "2   24321880        3      46.67           112.00             0\n",
       "3   24321962        4      10.00           120.00             0\n",
       "4   24322000        5       9.17           110.00             0"
      ]
     },
     "execution_count": 4,
     "metadata": {},
     "output_type": "execute_result"
    }
   ],
   "source": [
    "#split our data for training and testing\n",
    "\n",
    "from sklearn.model_selection import train_test_split\n",
    "X_train, X_test, y_train, y_test = train_test_split(X, y, test_size = 0.2)\n",
    "\n",
    "kfold = model_selection.KFold(n_splits=10)\n",
    "\n",
    "df.head()"
   ]
  },
  {
   "cell_type": "markdown",
   "id": "fd4b2f6c",
   "metadata": {},
   "source": [
    "# Loading all Models"
   ]
  },
  {
   "cell_type": "code",
   "execution_count": null,
   "id": "1bf1c2e8",
   "metadata": {
    "ExecuteTime": {
     "start_time": "2022-02-13T22:33:14.052Z"
    }
   },
   "outputs": [],
   "source": [
    "models = []\n",
    "#models.append(('LR', LogisticRegression()))\n",
    "models.append(('LDA', LinearDiscriminantAnalysis()))\n",
    "models.append(('KNN', KNeighborsClassifier()))\n",
    "models.append(('CART', DecisionTreeClassifier()))\n",
    "models.append(('NB', GaussianNB()))\n",
    "models.append(('SVM', SVC()))"
   ]
  },
  {
   "cell_type": "markdown",
   "id": "157f0b3d",
   "metadata": {},
   "source": [
    "# Evaluating the models"
   ]
  },
  {
   "cell_type": "code",
   "execution_count": null,
   "id": "f5fdc0e3",
   "metadata": {
    "ExecuteTime": {
     "start_time": "2022-02-13T22:33:15.575Z"
    }
   },
   "outputs": [],
   "source": [
    "results = []\n",
    "names = []\n",
    "scoring = 'accuracy'\n",
    "for name, model in models:\n",
    "    kfold = model_selection.KFold(n_splits=10 )\n",
    "    cv_results = model_selection.cross_val_score(model, X_train, y_train, cv=kfold, scoring=scoring)\n",
    "    results.append(cv_results)\n",
    "    names.append(name)\n",
    "    msg = \"%s: %f (%f)\" % (name, cv_results.mean(), cv_results.std())\n",
    "    print(msg)"
   ]
  },
  {
   "cell_type": "markdown",
   "id": "7a6558a7",
   "metadata": {},
   "source": [
    "# Ploting BoxPlot"
   ]
  },
  {
   "cell_type": "code",
   "execution_count": null,
   "id": "5e5131b6",
   "metadata": {
    "ExecuteTime": {
     "end_time": "2022-02-13T22:24:14.346952Z",
     "start_time": "2022-02-13T22:24:14.053960Z"
    }
   },
   "outputs": [],
   "source": [
    "fig = plt.figure(figsize=(10,10))\n",
    "fig.suptitle('Compare sklearn classification algorithms')\n",
    "ax = fig.add_subplot(111)\n",
    "plt.boxplot(results)\n",
    "ax.set_xticklabels(names)\n",
    "plt.show()"
   ]
  },
  {
   "cell_type": "markdown",
   "id": "3f23ffd9",
   "metadata": {},
   "source": [
    "# Build the KNN model"
   ]
  },
  {
   "cell_type": "code",
   "execution_count": 5,
   "id": "ff551d49",
   "metadata": {
    "ExecuteTime": {
     "end_time": "2022-02-13T22:34:11.397515Z",
     "start_time": "2022-02-13T22:34:11.236791Z"
    }
   },
   "outputs": [],
   "source": [
    "from sklearn.neighbors import KNeighborsClassifier\n",
    "\n",
    "reg_knn = KNeighborsClassifier()\n",
    "reg_knn.fit(X_train, y_train)\n",
    "y_pred = reg_knn.predict(X_test)\n",
    "\n",
    "\n"
   ]
  },
  {
   "cell_type": "code",
   "execution_count": null,
   "id": "6cadb63e",
   "metadata": {
    "ExecuteTime": {
     "end_time": "2022-02-13T22:24:24.955282Z",
     "start_time": "2022-02-13T22:24:24.929929Z"
    }
   },
   "outputs": [],
   "source": [
    "from sklearn.metrics import accuracy_score\n",
    "from sklearn import metrics\n",
    "print(metrics.classification_report(y_test, y_pred))\n",
    "print(\"ACCURACY OF THE MODEL: \", metrics.accuracy_score(y_test, y_pred))"
   ]
  },
  {
   "cell_type": "markdown",
   "id": "708b2090",
   "metadata": {},
   "source": [
    "# Cross validating with test_x"
   ]
  },
  {
   "cell_type": "markdown",
   "id": "a5b0d5e3",
   "metadata": {},
   "source": [
    "## getting the x spots to predict"
   ]
  },
  {
   "cell_type": "code",
   "execution_count": 6,
   "id": "03cc8bbd",
   "metadata": {
    "ExecuteTime": {
     "end_time": "2022-02-13T22:35:34.378412Z",
     "start_time": "2022-02-13T22:35:34.368589Z"
    }
   },
   "outputs": [],
   "source": [
    "x_test_data = pd.read_csv('mwc22-client_table+-+test_x.csv')"
   ]
  },
  {
   "cell_type": "code",
   "execution_count": 7,
   "id": "dd6790c1",
   "metadata": {
    "ExecuteTime": {
     "end_time": "2022-02-13T22:35:35.655623Z",
     "start_time": "2022-02-13T22:35:35.643022Z"
    }
   },
   "outputs": [
    {
     "data": {
      "text/html": [
       "<div>\n",
       "<style scoped>\n",
       "    .dataframe tbody tr th:only-of-type {\n",
       "        vertical-align: middle;\n",
       "    }\n",
       "\n",
       "    .dataframe tbody tr th {\n",
       "        vertical-align: top;\n",
       "    }\n",
       "\n",
       "    .dataframe thead th {\n",
       "        text-align: right;\n",
       "    }\n",
       "</style>\n",
       "<table border=\"1\" class=\"dataframe\">\n",
       "  <thead>\n",
       "    <tr style=\"text-align: right;\">\n",
       "      <th></th>\n",
       "      <th>CLIENT ID</th>\n",
       "      <th>AVG CONSO</th>\n",
       "      <th>AVG BASKET SIZE</th>\n",
       "      <th>RECEIVED_COMMUNICATION</th>\n",
       "    </tr>\n",
       "  </thead>\n",
       "  <tbody>\n",
       "    <tr>\n",
       "      <th>0</th>\n",
       "      <td>48352078</td>\n",
       "      <td>8,33</td>\n",
       "      <td>100</td>\n",
       "      <td>0</td>\n",
       "    </tr>\n",
       "    <tr>\n",
       "      <th>1</th>\n",
       "      <td>18072186</td>\n",
       "      <td>93,42</td>\n",
       "      <td>186,83</td>\n",
       "      <td>1</td>\n",
       "    </tr>\n",
       "    <tr>\n",
       "      <th>2</th>\n",
       "      <td>48352246</td>\n",
       "      <td>45,83</td>\n",
       "      <td>137,5</td>\n",
       "      <td>0</td>\n",
       "    </tr>\n",
       "    <tr>\n",
       "      <th>3</th>\n",
       "      <td>18070621</td>\n",
       "      <td>16,67</td>\n",
       "      <td>200</td>\n",
       "      <td>1</td>\n",
       "    </tr>\n",
       "    <tr>\n",
       "      <th>4</th>\n",
       "      <td>48352262</td>\n",
       "      <td>13,33</td>\n",
       "      <td>160</td>\n",
       "      <td>0</td>\n",
       "    </tr>\n",
       "    <tr>\n",
       "      <th>5</th>\n",
       "      <td>48359553</td>\n",
       "      <td>16,67</td>\n",
       "      <td>200</td>\n",
       "      <td>0</td>\n",
       "    </tr>\n",
       "    <tr>\n",
       "      <th>6</th>\n",
       "      <td>18071647</td>\n",
       "      <td>8,33</td>\n",
       "      <td>100</td>\n",
       "      <td>1</td>\n",
       "    </tr>\n",
       "    <tr>\n",
       "      <th>7</th>\n",
       "      <td>48359574</td>\n",
       "      <td>54,17</td>\n",
       "      <td>162,5</td>\n",
       "      <td>0</td>\n",
       "    </tr>\n",
       "    <tr>\n",
       "      <th>8</th>\n",
       "      <td>48359627</td>\n",
       "      <td>26,67</td>\n",
       "      <td>106,67</td>\n",
       "      <td>0</td>\n",
       "    </tr>\n",
       "    <tr>\n",
       "      <th>9</th>\n",
       "      <td>18070505</td>\n",
       "      <td>166,67</td>\n",
       "      <td>333,33</td>\n",
       "      <td>1</td>\n",
       "    </tr>\n",
       "    <tr>\n",
       "      <th>10</th>\n",
       "      <td>18071016</td>\n",
       "      <td>145</td>\n",
       "      <td>290</td>\n",
       "      <td>1</td>\n",
       "    </tr>\n",
       "    <tr>\n",
       "      <th>11</th>\n",
       "      <td>18071198</td>\n",
       "      <td>230,83</td>\n",
       "      <td>230,83</td>\n",
       "      <td>1</td>\n",
       "    </tr>\n",
       "    <tr>\n",
       "      <th>12</th>\n",
       "      <td>18071233</td>\n",
       "      <td>85,92</td>\n",
       "      <td>343,67</td>\n",
       "      <td>1</td>\n",
       "    </tr>\n",
       "    <tr>\n",
       "      <th>13</th>\n",
       "      <td>18071524</td>\n",
       "      <td>7,5</td>\n",
       "      <td>45</td>\n",
       "      <td>1</td>\n",
       "    </tr>\n",
       "    <tr>\n",
       "      <th>14</th>\n",
       "      <td>18071668</td>\n",
       "      <td>154,83</td>\n",
       "      <td>109,29</td>\n",
       "      <td>1</td>\n",
       "    </tr>\n",
       "    <tr>\n",
       "      <th>15</th>\n",
       "      <td>18072476</td>\n",
       "      <td>33,33</td>\n",
       "      <td>400</td>\n",
       "      <td>1</td>\n",
       "    </tr>\n",
       "    <tr>\n",
       "      <th>16</th>\n",
       "      <td>48352272</td>\n",
       "      <td>25</td>\n",
       "      <td>150</td>\n",
       "      <td>0</td>\n",
       "    </tr>\n",
       "    <tr>\n",
       "      <th>17</th>\n",
       "      <td>18072741</td>\n",
       "      <td>158,42</td>\n",
       "      <td>211,22</td>\n",
       "      <td>1</td>\n",
       "    </tr>\n",
       "    <tr>\n",
       "      <th>18</th>\n",
       "      <td>18072797</td>\n",
       "      <td>110,83</td>\n",
       "      <td>133</td>\n",
       "      <td>1</td>\n",
       "    </tr>\n",
       "  </tbody>\n",
       "</table>\n",
       "</div>"
      ],
      "text/plain": [
       "    CLIENT ID AVG CONSO AVG BASKET SIZE  RECEIVED_COMMUNICATION\n",
       "0    48352078      8,33             100                       0\n",
       "1    18072186     93,42          186,83                       1\n",
       "2    48352246     45,83           137,5                       0\n",
       "3    18070621     16,67             200                       1\n",
       "4    48352262     13,33             160                       0\n",
       "5    48359553     16,67             200                       0\n",
       "6    18071647      8,33             100                       1\n",
       "7    48359574     54,17           162,5                       0\n",
       "8    48359627     26,67          106,67                       0\n",
       "9    18070505    166,67          333,33                       1\n",
       "10   18071016       145             290                       1\n",
       "11   18071198    230,83          230,83                       1\n",
       "12   18071233     85,92          343,67                       1\n",
       "13   18071524       7,5              45                       1\n",
       "14   18071668    154,83          109,29                       1\n",
       "15   18072476     33,33             400                       1\n",
       "16   48352272        25             150                       0\n",
       "17   18072741    158,42          211,22                       1\n",
       "18   18072797    110,83             133                       1"
      ]
     },
     "execution_count": 7,
     "metadata": {},
     "output_type": "execute_result"
    }
   ],
   "source": [
    "x_test_data"
   ]
  },
  {
   "cell_type": "code",
   "execution_count": 8,
   "id": "8a481024",
   "metadata": {
    "ExecuteTime": {
     "end_time": "2022-02-13T22:35:39.734813Z",
     "start_time": "2022-02-13T22:35:39.730946Z"
    }
   },
   "outputs": [],
   "source": [
    "x_test = x_test_data['CLIENT ID']"
   ]
  },
  {
   "cell_type": "code",
   "execution_count": 11,
   "id": "1ce2e0ea",
   "metadata": {
    "ExecuteTime": {
     "end_time": "2022-02-13T22:41:54.569483Z",
     "start_time": "2022-02-13T22:41:54.562904Z"
    }
   },
   "outputs": [
    {
     "data": {
      "text/plain": [
       "[48352078,\n",
       " 18072186,\n",
       " 48352246,\n",
       " 18070621,\n",
       " 48352262,\n",
       " 48359553,\n",
       " 18071647,\n",
       " 48359574,\n",
       " 48359627,\n",
       " 18070505,\n",
       " 18071016,\n",
       " 18071198,\n",
       " 18071233,\n",
       " 18071524,\n",
       " 18071668,\n",
       " 18072476,\n",
       " 48352272,\n",
       " 18072741,\n",
       " 18072797]"
      ]
     },
     "execution_count": 11,
     "metadata": {},
     "output_type": "execute_result"
    }
   ],
   "source": [
    "list_indexes=x_test.tolist()\n",
    "list_indexes"
   ]
  },
  {
   "cell_type": "markdown",
   "id": "de31506c",
   "metadata": {},
   "source": [
    "## Using knn.predict to get the predictions "
   ]
  },
  {
   "cell_type": "code",
   "execution_count": 12,
   "id": "a508573e",
   "metadata": {
    "ExecuteTime": {
     "end_time": "2022-02-13T22:42:22.745862Z",
     "start_time": "2022-02-13T22:42:22.725439Z"
    }
   },
   "outputs": [
    {
     "ename": "NameError",
     "evalue": "name 'scaler' is not defined",
     "output_type": "error",
     "traceback": [
      "\u001b[0;31m---------------------------------------------------------------------------\u001b[0m",
      "\u001b[0;31mNameError\u001b[0m                                 Traceback (most recent call last)",
      "\u001b[0;32m/var/folders/f6/82v5s4vs3_s9h4b3z9dzgkg00000gn/T/ipykernel_34746/589499006.py\u001b[0m in \u001b[0;36m<module>\u001b[0;34m\u001b[0m\n\u001b[1;32m      2\u001b[0m \u001b[0;34m\u001b[0m\u001b[0m\n\u001b[1;32m      3\u001b[0m \u001b[0;32mfrom\u001b[0m \u001b[0msklearn\u001b[0m\u001b[0;34m.\u001b[0m\u001b[0mpreprocessing\u001b[0m \u001b[0;32mimport\u001b[0m \u001b[0mMinMaxScaler\u001b[0m\u001b[0;34m\u001b[0m\u001b[0;34m\u001b[0m\u001b[0m\n\u001b[0;32m----> 4\u001b[0;31m list_indexes_scaled = scaler.transorm([48352078,\n\u001b[0m\u001b[1;32m      5\u001b[0m  \u001b[0;36m18072186\u001b[0m\u001b[0;34m,\u001b[0m\u001b[0;34m\u001b[0m\u001b[0;34m\u001b[0m\u001b[0m\n\u001b[1;32m      6\u001b[0m  \u001b[0;36m48352246\u001b[0m\u001b[0;34m,\u001b[0m\u001b[0;34m\u001b[0m\u001b[0;34m\u001b[0m\u001b[0m\n",
      "\u001b[0;31mNameError\u001b[0m: name 'scaler' is not defined"
     ]
    }
   ],
   "source": [
    "# importing the scaler libraries\n",
    "\n",
    "from sklearn.preprocessing import MinMaxScaler\n",
    "\n",
    "list_indexes_scaled = scaler.transorm([])\n",
    "\n",
    "print('Predictions, x_test',[list_indexes], 'is',\n",
    "     segment[knn.predict(list_indexes_scaled)[0]-1])"
   ]
  },
  {
   "cell_type": "code",
   "execution_count": null,
   "id": "b4bb2773",
   "metadata": {},
   "outputs": [],
   "source": []
  }
 ],
 "metadata": {
  "kernelspec": {
   "display_name": "Python 3 (ipykernel)",
   "language": "python",
   "name": "python3"
  },
  "language_info": {
   "codemirror_mode": {
    "name": "ipython",
    "version": 3
   },
   "file_extension": ".py",
   "mimetype": "text/x-python",
   "name": "python",
   "nbconvert_exporter": "python",
   "pygments_lexer": "ipython3",
   "version": "3.9.7"
  },
  "toc": {
   "base_numbering": 1,
   "nav_menu": {},
   "number_sections": true,
   "sideBar": true,
   "skip_h1_title": false,
   "title_cell": "Table of Contents",
   "title_sidebar": "Contents",
   "toc_cell": false,
   "toc_position": {},
   "toc_section_display": true,
   "toc_window_display": false
  },
  "varInspector": {
   "cols": {
    "lenName": 16,
    "lenType": 16,
    "lenVar": 40
   },
   "kernels_config": {
    "python": {
     "delete_cmd_postfix": "",
     "delete_cmd_prefix": "del ",
     "library": "var_list.py",
     "varRefreshCmd": "print(var_dic_list())"
    },
    "r": {
     "delete_cmd_postfix": ") ",
     "delete_cmd_prefix": "rm(",
     "library": "var_list.r",
     "varRefreshCmd": "cat(var_dic_list()) "
    }
   },
   "types_to_exclude": [
    "module",
    "function",
    "builtin_function_or_method",
    "instance",
    "_Feature"
   ],
   "window_display": false
  }
 },
 "nbformat": 4,
 "nbformat_minor": 5
}
